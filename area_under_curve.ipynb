{
  "nbformat": 4,
  "nbformat_minor": 0,
  "metadata": {
    "colab": {
      "provenance": [],
      "authorship_tag": "ABX9TyNkSGRjDqabUCQXQsgPO/KS",
      "include_colab_link": true
    },
    "kernelspec": {
      "name": "python3",
      "display_name": "Python 3"
    },
    "language_info": {
      "name": "python"
    }
  },
  "cells": [
    {
      "cell_type": "markdown",
      "metadata": {
        "id": "view-in-github",
        "colab_type": "text"
      },
      "source": [
        "<a href=\"https://colab.research.google.com/github/dineshkumarsarangapani/IIT-M/blob/main/area_under_curve.ipynb\" target=\"_parent\"><img src=\"https://colab.research.google.com/assets/colab-badge.svg\" alt=\"Open In Colab\"/></a>"
      ]
    },
    {
      "cell_type": "code",
      "execution_count": 1,
      "metadata": {
        "colab": {
          "base_uri": "https://localhost:8080/",
          "height": 473
        },
        "id": "-AEBwhEpWR57",
        "outputId": "c0ed52c4-cbbc-4bee-ec33-9aae3d5cec65"
      },
      "outputs": [
        {
          "output_type": "stream",
          "name": "stdout",
          "text": [
            "Area under the curve: 2.1700\n"
          ]
        },
        {
          "output_type": "display_data",
          "data": {
            "text/plain": [
              "<Figure size 640x480 with 1 Axes>"
            ],
            "image/png": "[encoded data removed]"
          },
          "metadata": {}
        }
      ],
      "source": [
        "import matplotlib.pyplot as plt\n",
        "\n",
        "# Define the function y(x)\n",
        "def y(x):\n",
        "    if 0 <= x < 1/3:\n",
        "        return 2\n",
        "    elif 1/3 <= x < 3/4:\n",
        "        return 3\n",
        "    elif 3/4 <= x <= 1:\n",
        "        return 1\n",
        "    else:\n",
        "        return 0\n",
        "\n",
        "# Calculate the area under the curve\n",
        "a = 0  # Lower bound of the interval\n",
        "b = 1  # Upper bound of the interval\n",
        "dx = 0.01  # Step size for numerical integration\n",
        "\n",
        "# Calculate the sum of the function values multiplied by the step size\n",
        "area = 0\n",
        "for x in range(a, int(b/dx) + 1):\n",
        "    area += y(x * dx) * dx\n",
        "\n",
        "# Plot the function and the area\n",
        "plt.plot(range(a, int(b/dx) + 1), [y(x * dx) for x in range(a, int(b/dx) + 1)], label=\"y(x)\")\n",
        "plt.fill_between(range(a, int(b/dx) + 1), 0, [y(x * dx) for x in range(a, int(b/dx) + 1)], color=\"skyblue\", label=\"Area\")\n",
        "plt.xlabel(\"x\")\n",
        "plt.ylabel(\"y(x)\")\n",
        "plt.xlim(a, b)\n",
        "plt.ylim(0, 4)\n",
        "plt.legend()\n",
        "plt.grid(True)\n",
        "\n",
        "# Print the area\n",
        "print(f\"Area under the curve: {area:.4f}\")\n",
        "\n",
        "plt.show()"
      ]
    },
    {
      "cell_type": "code",
      "source": [
        "5/6"
      ],
      "metadata": {
        "colab": {
          "base_uri": "https://localhost:8080/"
        },
        "id": "kSwflR9rY-wC",
        "outputId": "cc863dc3-03e3-4ddd-e96b-8156c0490fbb"
      },
      "execution_count": 3,
      "outputs": [
        {
          "output_type": "execute_result",
          "data": {
            "text/plain": [
              "0.8333333333333334"
            ]
          },
          "metadata": {},
          "execution_count": 3
        }
      ]
    },
    {
      "cell_type": "code",
      "source": [
        "6/5"
      ],
      "metadata": {
        "colab": {
          "base_uri": "https://localhost:8080/"
        },
        "id": "rzFS4SS5ZLaP",
        "outputId": "e4a83278-d9c9-4327-cef6-a9073fda930d"
      },
      "execution_count": 4,
      "outputs": [
        {
          "output_type": "execute_result",
          "data": {
            "text/plain": [
              "1.2"
            ]
          },
          "metadata": {},
          "execution_count": 4
        }
      ]
    },
    {
      "cell_type": "code",
      "source": [
        "13/6"
      ],
      "metadata": {
        "colab": {
          "base_uri": "https://localhost:8080/"
        },
        "id": "yiLp3L7aZPMB",
        "outputId": "1726eac7-868e-4259-f239-420d1a32d34b"
      },
      "execution_count": 5,
      "outputs": [
        {
          "output_type": "execute_result",
          "data": {
            "text/plain": [
              "2.1666666666666665"
            ]
          },
          "metadata": {},
          "execution_count": 5
        }
      ]
    },
    {
      "cell_type": "code",
      "source": [
        "6/13"
      ],
      "metadata": {
        "colab": {
          "base_uri": "https://localhost:8080/"
        },
        "id": "QtGlAiffZRRg",
        "outputId": "a146ccee-43a5-4c09-fae7-54c6ba64f9aa"
      },
      "execution_count": 6,
      "outputs": [
        {
          "output_type": "execute_result",
          "data": {
            "text/plain": [
              "0.46153846153846156"
            ]
          },
          "metadata": {},
          "execution_count": 6
        }
      ]
    },
    {
      "cell_type": "code",
      "source": [],
      "metadata": {
        "id": "eFo8bQtyZT1q"
      },
      "execution_count": null,
      "outputs": []
    }
  ]
}